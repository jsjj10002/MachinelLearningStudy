{
 "cells": [
  {
   "cell_type": "markdown",
   "id": "edb9ee7e",
   "metadata": {},
   "source": [
    "### 나이브 베이즈 구현"
   ]
  },
  {
   "cell_type": "markdown",
   "id": "f8aec5cb",
   "metadata": {},
   "source": [
    "#### 밑바닥부터 구현하는 나이브 베이즈"
   ]
  },
  {
   "cell_type": "code",
   "execution_count": 22,
   "id": "b69e95a6",
   "metadata": {},
   "outputs": [],
   "source": [
    "# 간단한 데이터셋 정의\n",
    "import numpy as np \n",
    "X_train = np.array([\n",
    "    [0, 1, 1],\n",
    "    [0, 0, 1],\n",
    "    [1, 1, 0],\n",
    "    [1, 1, 0]\n",
    "])\n",
    "Y_train = ['Y', 'N', 'Y', 'Y']\n",
    "X_test = np.array([[1, 1, 0]])"
   ]
  },
  {
   "cell_type": "code",
   "execution_count": 6,
   "id": "845201b6",
   "metadata": {},
   "outputs": [],
   "source": [
    "# 사전확률을 계산하기 위해 데이터를 레이블별로 그룹화하고 클렉스별로 인덱스를 기록\n",
    "def get_label_indices(labels):\n",
    "    \"\"\"\n",
    "    레이블과 반환 인덱스 기준으로 샘플 그룹화\n",
    "    @para labels: 레이블 리스트\n",
    "    @return label_indices: dictionary, {class1: [indices], class2: [indices]}\n",
    "    \"\"\"\n",
    "    from collections import defaultdict\n",
    "    # defaultdict를 사용하여 기본값으로 빈 리스트를 가지는 딕셔너리 생성\n",
    "    label_indices= defaultdict(list)\n",
    "    # 주어진 레이블 리스트를 순회하며 각 레이블의 인덱스를 기록\n",
    "    for index, label in enumerate(labels):\n",
    "        label_indices[label].append(index)\n",
    "    \n",
    "    # 완성된 딕셔너리 반환\n",
    "    return label_indices"
   ]
  },
  {
   "cell_type": "code",
   "execution_count": 8,
   "id": "e2bebbf9",
   "metadata": {},
   "outputs": [
    {
     "name": "stdout",
     "output_type": "stream",
     "text": [
      "label_indices: \n",
      " defaultdict(<class 'list'>, {'Y': [0, 2, 3], 'N': [1]})\n"
     ]
    }
   ],
   "source": [
    "label_indices = get_label_indices(Y_train)\n",
    "print('label_indices: \\n',label_indices)"
   ]
  },
  {
   "cell_type": "code",
   "execution_count": 11,
   "id": "e894da0a",
   "metadata": {},
   "outputs": [],
   "source": [
    "#label_indices를 이용해 사전확률 계산 \n",
    "def get_prior(label_indices):\n",
    "    \"\"\"\n",
    "    훈련 샘플을 이용한 사전확률 계산\n",
    "    @para label_indices: 클래스별로 그룹화된 샘플 인덱스\n",
    "    @return prior: dictionary, key = 클래스 레이블, value = 사전확률\n",
    "    \"\"\"\n",
    "    # 각 클래스의 샘플 수를 카운트하여 사전확률의 분자를 구함\n",
    "    prior = {label: len(indices) for label, indices in label_indices.items()}\n",
    "    # 전체 샘플 수를 계산하여 사전확률의 분모를 구함\n",
    "    total_count = sum(prior.values())\n",
    "    \n",
    "    # 각 클래스의 사전확률을 계산하여 업데이트\n",
    "    for label in prior:\n",
    "        prior[label] /= total_count\n",
    "    return prior"
   ]
  },
  {
   "cell_type": "code",
   "execution_count": 13,
   "id": "f043f5d2",
   "metadata": {},
   "outputs": [
    {
     "name": "stdout",
     "output_type": "stream",
     "text": [
      "Prior: {'Y': 0.75, 'N': 0.25}\n"
     ]
    }
   ],
   "source": [
    "prior = get_prior(label_indices)\n",
    "print(\"Prior:\",prior)"
   ]
  },
  {
   "cell_type": "code",
   "execution_count": 19,
   "id": "89683f59",
   "metadata": {},
   "outputs": [],
   "source": [
    "#사전 확률을 통해 조건부 확률에 해당하는 우도 계산\n",
    "def get_likelihood(features, label_indices, smoothing=0):\n",
    "    \"\"\"\n",
    "    훈련 샘플을 이용한 우도 계산 \n",
    "    @param features: 특징 행렬\n",
    "    @param label_indices: 클래스별로 그룹화된 샘플 인덱스 \n",
    "    @param smoothing: int, 가산(additive) 평활화 계수\n",
    "    @return likelihood: dictionary, key = 클래스, value = 조건부 확률 P(feature | class)벡터\n",
    "    \"\"\"\n",
    "    likelihood ={}\n",
    "    for label, indices in label_indices.items():\n",
    "        # 해당 클래스에 속하는 샘플들의 특징 값의 합을 계산\n",
    "        likelihood[label] = features[indices, :].sum(axis=0) + smoothing\n",
    "        total_count = len(indices) # 해당 클래스에 속하는 샘플의 수\n",
    "        # 가산 평활화를 적용한 후, 각 특징에 대한 조건부 확률을 계산\n",
    "        likelihood[label] = likelihood[label] / (total_count + 2*smoothing)\n",
    "    return likelihood"
   ]
  },
  {
   "cell_type": "code",
   "execution_count": 23,
   "id": "b3222467",
   "metadata": {
    "scrolled": false
   },
   "outputs": [
    {
     "name": "stdout",
     "output_type": "stream",
     "text": [
      "Likelihood:\n",
      " {'Y': array([0.6, 0.8, 0.4]), 'N': array([0.33333333, 0.33333333, 0.66666667])}\n"
     ]
    }
   ],
   "source": [
    "#평활화값 1로 설정\n",
    "smoothing =1\n",
    "likelihood= get_likelihood(X_train, label_indices, smoothing)\n",
    "print(\"Likelihood:\\n\",likelihood)"
   ]
  },
  {
   "cell_type": "code",
   "execution_count": 25,
   "id": "069cebb7",
   "metadata": {},
   "outputs": [],
   "source": [
    "#테스트/새로운 샘플에 대한 사후확률 계산 \n",
    "def get_posterior(X, prior, likelihood):\n",
    "    \"\"\"\n",
    "    사전확률과 우도를 이용한 테스트 샘플의 사후확률 계산 \n",
    "    @param X: 테스트 샘플\n",
    "    @param prior: dictionary, key = 클래스 레이블, value = 사전확률\n",
    "    @param likelihood: dictionary, key = 클래스 레이블. value = 조건부 확률 벡터\n",
    "    @return posteriors: dictionary, key = 클래스 레이블 , value = 사후확률\n",
    "    \"\"\"\n",
    "    posteriors =[]\n",
    "    for x in X:\n",
    "        #사후확률은 사전확률*우도에 비례한다. \n",
    "        \n",
    "        # 사후확률을 계산하기 위해 사전확률 복사하여 시작\n",
    "        posterior = prior.copy() \n",
    "        for label, likelihood_label in likelihood.items(): \n",
    "            for index, bool_value in enumerate(x):\n",
    "                # 해당 특성이 참인 경우 우도를 곱하고, 거짓인 경우 1에서 우도를 뺀 값을 곱함\n",
    "                posterior[label] *= likelihood_label[index] if bool_value else (1 - likelihood_label[index])\n",
    "        #모든 합이 1이 되도록 정규화한다.\n",
    "        sum_posterior = sum(posterior.values())\n",
    "        for label in posterior:\n",
    "            # 사후확률이 무한대로 계산된 경우 1.0으로 설정 (오버플로 방지)\n",
    "            if posterior[label] == float('inf'):\n",
    "                posterior[label] = 1.0\n",
    "            else:\n",
    "                 # 사후확률 정규화\n",
    "                posterior[label] /= sum_posterior\n",
    "        posteriors.append(posterior.copy())\n",
    "    return posteriors\n",
    "        "
   ]
  },
  {
   "cell_type": "code",
   "execution_count": 26,
   "id": "cc4575d4",
   "metadata": {},
   "outputs": [
    {
     "name": "stdout",
     "output_type": "stream",
     "text": [
      "Posterior:\n",
      " [{'Y': 0.9588951002959553, 'N': 0.041104899704044726}]\n"
     ]
    }
   ],
   "source": [
    "posterior = get_posterior(X_test, prior, likelihood)\n",
    "print('Posterior:\\n',posterior)"
   ]
  }
 ],
 "metadata": {
  "kernelspec": {
   "display_name": "Python 3 (ipykernel)",
   "language": "python",
   "name": "python3"
  },
  "language_info": {
   "codemirror_mode": {
    "name": "ipython",
    "version": 3
   },
   "file_extension": ".py",
   "mimetype": "text/x-python",
   "name": "python",
   "nbconvert_exporter": "python",
   "pygments_lexer": "ipython3",
   "version": "3.9.13"
  }
 },
 "nbformat": 4,
 "nbformat_minor": 5
}
