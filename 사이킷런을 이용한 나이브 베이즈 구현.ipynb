{
 "cells": [
  {
   "cell_type": "markdown",
   "id": "da56f2ba",
   "metadata": {},
   "source": [
    "### 사이킷런을 이용한 나이브 베이즈 구현"
   ]
  },
  {
   "cell_type": "code",
   "execution_count": 1,
   "id": "32bc2cdc",
   "metadata": {},
   "outputs": [],
   "source": [
    "#사이킷런 API인 BernoulliNBahebf 모듈 호출 \n",
    "from sklearn.naive_bayes import BernoulliNB"
   ]
  },
  {
   "cell_type": "code",
   "execution_count": 3,
   "id": "9ebb5d46",
   "metadata": {},
   "outputs": [],
   "source": [
    "#평활계수(alpha로 지정) 1.0과 훈련셋(fit_prior=True)으로 학습한 사전확률로 모델 초기화\n",
    "clf = BernoulliNB(alpha=1.0, fit_prior=True)"
   ]
  },
  {
   "cell_type": "code",
   "execution_count": 4,
   "id": "d75f76a2",
   "metadata": {},
   "outputs": [],
   "source": [
    "# 간단한 데이터셋 정의\n",
    "import numpy as np \n",
    "X_train = np.array([\n",
    "    [0, 1, 1],\n",
    "    [0, 0, 1],\n",
    "    [1, 1, 0],\n",
    "    [1, 1, 0]\n",
    "])\n",
    "Y_train = ['Y', 'N', 'Y', 'Y']\n",
    "X_test = np.array([[1, 1, 0]])"
   ]
  },
  {
   "cell_type": "code",
   "execution_count": 5,
   "id": "f5c8b006",
   "metadata": {},
   "outputs": [
    {
     "data": {
      "text/plain": [
       "BernoulliNB()"
      ]
     },
     "execution_count": 5,
     "metadata": {},
     "output_type": "execute_result"
    }
   ],
   "source": [
    "#fit 메서드로 나이브베이즈분류기를 훈련\n",
    "clf.fit(X_train, Y_train)"
   ]
  },
  {
   "cell_type": "code",
   "execution_count": 6,
   "id": "6602030c",
   "metadata": {},
   "outputs": [
    {
     "name": "stdout",
     "output_type": "stream",
     "text": [
      "[scikit-lean]Predicted probabilities:\n",
      " [[0.0411049 0.9588951]]\n"
     ]
    }
   ],
   "source": [
    "#predict_proba메서드로 확률 결과를 예측\n",
    "pred_prob = clf.predict_proba(X_test)\n",
    "print('[scikit-lean]Predicted probabilities:\\n',pred_prob)"
   ]
  },
  {
   "cell_type": "code",
   "execution_count": 7,
   "id": "63a4672a",
   "metadata": {},
   "outputs": [
    {
     "name": "stdout",
     "output_type": "stream",
     "text": [
      "[scikit-learn] Prediction:\n",
      " ['Y']\n"
     ]
    }
   ],
   "source": [
    "#predict메서드로 클래스 예측 \n",
    "pred = clf.predict(X_test)\n",
    "print('[scikit-learn] Prediction:\\n', pred)"
   ]
  }
 ],
 "metadata": {
  "kernelspec": {
   "display_name": "Python 3 (ipykernel)",
   "language": "python",
   "name": "python3"
  },
  "language_info": {
   "codemirror_mode": {
    "name": "ipython",
    "version": 3
   },
   "file_extension": ".py",
   "mimetype": "text/x-python",
   "name": "python",
   "nbconvert_exporter": "python",
   "pygments_lexer": "ipython3",
   "version": "3.9.13"
  }
 },
 "nbformat": 4,
 "nbformat_minor": 5
}
